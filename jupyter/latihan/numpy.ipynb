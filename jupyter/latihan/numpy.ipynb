{
 "cells": [
  {
   "cell_type": "code",
   "execution_count": 2,
   "metadata": {},
   "outputs": [],
   "source": [
    "import numpy as np"
   ]
  },
  {
   "cell_type": "code",
   "execution_count": 75,
   "metadata": {},
   "outputs": [
    {
     "data": {
      "text/plain": [
       "array([1, 2, 3, 5])"
      ]
     },
     "execution_count": 75,
     "metadata": {},
     "output_type": "execute_result"
    }
   ],
   "source": [
    "#array 1 dimensi\n",
    "array_1 =np.array([1,2,3,5])\n",
    "array_1"
   ]
  },
  {
   "cell_type": "code",
   "execution_count": 76,
   "metadata": {},
   "outputs": [
    {
     "data": {
      "text/plain": [
       "array([[1, 2, 5],\n",
       "       [3, 6, 8]])"
      ]
     },
     "execution_count": 76,
     "metadata": {},
     "output_type": "execute_result"
    }
   ],
   "source": [
    "#array 2 dimensi\n",
    "array_2 = np.array([[1,2,5],[3,6,8]])\n",
    "array_2"
   ]
  },
  {
   "cell_type": "code",
   "execution_count": 77,
   "metadata": {},
   "outputs": [
    {
     "data": {
      "text/plain": [
       "array([[0., 0., 0.],\n",
       "       [0., 0., 0.]])"
      ]
     },
     "execution_count": 77,
     "metadata": {},
     "output_type": "execute_result"
    }
   ],
   "source": [
    "#array dengan fungsi bawaan\n",
    "zero = np.zeros([2,3]) # 2 baris 3 kolom\n",
    "zero\n"
   ]
  },
  {
   "cell_type": "code",
   "execution_count": 78,
   "metadata": {},
   "outputs": [
    {
     "data": {
      "text/plain": [
       "array([[1., 1.],\n",
       "       [1., 1.]])"
      ]
     },
     "execution_count": 78,
     "metadata": {},
     "output_type": "execute_result"
    }
   ],
   "source": [
    "#array 1 \n",
    "satu = np.ones([2,2])\n",
    "satu"
   ]
  },
  {
   "cell_type": "code",
   "execution_count": 17,
   "metadata": {},
   "outputs": [
    {
     "data": {
      "text/plain": [
       "array([0, 2, 4, 6, 8])"
      ]
     },
     "execution_count": 17,
     "metadata": {},
     "output_type": "execute_result"
    }
   ],
   "source": [
    "#array dengan rentang angka\n",
    "arange_c = np.arange(0,10,2)\n",
    "arange_c"
   ]
  },
  {
   "cell_type": "code",
   "execution_count": 30,
   "metadata": {},
   "outputs": [
    {
     "data": {
      "text/plain": [
       "array([[0.81478248, 0.18547494],\n",
       "       [0.90493233, 0.80471199],\n",
       "       [0.93965904, 0.52842159]])"
      ]
     },
     "execution_count": 30,
     "metadata": {},
     "output_type": "execute_result"
    }
   ],
   "source": [
    "#array dengan nilai random\n",
    "arandom = np.random.rand(3,2) # array 3x2 dengan nilai acak\n",
    "arandom"
   ]
  },
  {
   "cell_type": "code",
   "execution_count": 79,
   "metadata": {},
   "outputs": [
    {
     "name": "stdout",
     "output_type": "stream",
     "text": [
      "[1 2 5]\n",
      "2\n"
     ]
    }
   ],
   "source": [
    "#manipulasi array\n",
    " \n",
    "print(array_2[0]) # akses elemen pertama\n",
    "print(array_2[0,1])  # akses elemen pada baris ke-1 dan kolom ke-2"
   ]
  },
  {
   "cell_type": "code",
   "execution_count": 81,
   "metadata": {},
   "outputs": [
    {
     "name": "stdout",
     "output_type": "stream",
     "text": [
      "[[3 6 8]]\n"
     ]
    }
   ],
   "source": [
    "#slicing\n",
    "print(array_2[1:4]) # ambil elemen dari index 1 sampai 3"
   ]
  },
  {
   "cell_type": "code",
   "execution_count": 83,
   "metadata": {},
   "outputs": [
    {
     "data": {
      "text/plain": [
       "array([[1, 2],\n",
       "       [5, 3],\n",
       "       [6, 8]])"
      ]
     },
     "execution_count": 83,
     "metadata": {},
     "output_type": "execute_result"
    }
   ],
   "source": [
    "#mengubah bentuk array\n",
    "reshapee = array_2.reshape(3,2)\n",
    "reshapee"
   ]
  },
  {
   "cell_type": "code",
   "execution_count": 84,
   "metadata": {},
   "outputs": [
    {
     "name": "stdout",
     "output_type": "stream",
     "text": [
      "[1 2 3 4 5 6]\n"
     ]
    }
   ],
   "source": [
    "# menggabungkan \n",
    "array1a = np.array([1, 2, 3])\n",
    "array2a = np.array([4, 5, 6])\n",
    "combined = np.concatenate((array1a, array2a))\n",
    "print(combined)\n"
   ]
  },
  {
   "cell_type": "code",
   "execution_count": 85,
   "metadata": {},
   "outputs": [
    {
     "name": "stdout",
     "output_type": "stream",
     "text": [
      "[array([1, 2]), array([3, 4]), array([5, 6])]\n"
     ]
    }
   ],
   "source": [
    "split_array = np.split(combined, 3)\n",
    "print(split_array)\n"
   ]
  },
  {
   "cell_type": "code",
   "execution_count": 86,
   "metadata": {},
   "outputs": [
    {
     "name": "stdout",
     "output_type": "stream",
     "text": [
      "[5 7 9]\n",
      "[ 4 10 18]\n"
     ]
    }
   ],
   "source": [
    "#operasi matematika\n",
    "array_aa = np.array([1, 2, 3])\n",
    "array_bb = np.array([4, 5, 6])\n",
    "\n",
    "print(array_a + array_b)  # penjumlahan\n",
    "print(array_a * array_b)  # perkalian\n"
   ]
  },
  {
   "cell_type": "code",
   "execution_count": 87,
   "metadata": {},
   "outputs": [
    {
     "name": "stdout",
     "output_type": "stream",
     "text": [
      "2.0\n",
      "2.0\n",
      "0.816496580927726\n"
     ]
    }
   ],
   "source": [
    "#statistik\n",
    "print(np.mean(array_a))  # rata-rata\n",
    "print(np.median(array_a))  # median\n",
    "print(np.std(array_a))  # standar deviasi\n"
   ]
  },
  {
   "cell_type": "code",
   "execution_count": 90,
   "metadata": {},
   "outputs": [
    {
     "name": "stdout",
     "output_type": "stream",
     "text": [
      "Elemen baris 1 kolom 2: 20\n",
      "Elemen baris 3 kolom 1: 70\n",
      "Seluruh baris 2: [40 50 60]\n",
      "Seluruh kolom 3: [30 60 90]\n",
      "Sub-array (2x2):\n",
      "[[10 20]\n",
      " [40 50]]\n"
     ]
    }
   ],
   "source": [
    "import numpy as np\n",
    "\n",
    "# Membuat array 2D\n",
    "array_2d = np.array([[10, 20, 30], [40, 50, 60], [70, 80, 90]])\n",
    "\n",
    "# Mengakses elemen tertentu\n",
    "print(\"Elemen baris 1 kolom 2:\", array_2d[0, 1])  # Output: 20\n",
    "print(\"Elemen baris 3 kolom 1:\", array_2d[2, 0])  # Output: 70\n",
    "\n",
    "# Mengambil seluruh baris\n",
    "print(\"Seluruh baris 2:\", array_2d[1, :])  # Output: [40, 50, 60]\n",
    "\n",
    "# Mengambil seluruh kolom\n",
    "print(\"Seluruh kolom 3:\", array_2d[:, 2])  # Output: [30, 60, 90]\n",
    "\n",
    "# Mengambil sub-array\n",
    "print(\"Sub-array (2x2):\")\n",
    "print(array_2d[0:2, 0:2])  # Output: [[10, 20], [40, 50]]\n"
   ]
  }
 ],
 "metadata": {
  "kernelspec": {
   "display_name": "Python 3",
   "language": "python",
   "name": "python3"
  },
  "language_info": {
   "codemirror_mode": {
    "name": "ipython",
    "version": 3
   },
   "file_extension": ".py",
   "mimetype": "text/x-python",
   "name": "python",
   "nbconvert_exporter": "python",
   "pygments_lexer": "ipython3",
   "version": "3.12.6"
  }
 },
 "nbformat": 4,
 "nbformat_minor": 2
}
